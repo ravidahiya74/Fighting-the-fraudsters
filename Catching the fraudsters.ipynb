{
 "cells": [
  {
   "cell_type": "markdown",
   "metadata": {},
   "source": [
    "# Detecting fraud using a Live Example"
   ]
  },
  {
   "cell_type": "markdown",
   "metadata": {},
   "source": [
    "Data available in the transactions.csv is an actual transaction file from a bank.\n",
    "We don't need the list of fraudsters to train the model as SOM is an unsupervised Deep Learning technique."
   ]
  },
  {
   "cell_type": "markdown",
   "metadata": {},
   "source": [
    "##### Our goal is to identify the 'potential fraudsters' and send the list to the expert team for further analysis."
   ]
  },
  {
   "cell_type": "markdown",
   "metadata": {},
   "source": [
    "### Importing Libraries & csv files"
   ]
  },
  {
   "cell_type": "code",
   "execution_count": 1,
   "metadata": {},
   "outputs": [],
   "source": [
    "import pandas as pd\n",
    "import numpy as np\n",
    "import matplotlib.pyplot as plt\n",
    "import seaborn as sns\n",
    "import datetime\n",
    "%matplotlib inline\n",
    "from sklearn.preprocessing import MinMaxScaler\n",
    "from minisom import MiniSom\n",
    "from progressbar import ProgressBar"
   ]
  },
  {
   "cell_type": "code",
   "execution_count": 2,
   "metadata": {},
   "outputs": [
    {
     "data": {
      "text/html": [
       "<div>\n",
       "<style scoped>\n",
       "    .dataframe tbody tr th:only-of-type {\n",
       "        vertical-align: middle;\n",
       "    }\n",
       "\n",
       "    .dataframe tbody tr th {\n",
       "        vertical-align: top;\n",
       "    }\n",
       "\n",
       "    .dataframe thead th {\n",
       "        text-align: right;\n",
       "    }\n",
       "</style>\n",
       "<table border=\"1\" class=\"dataframe\">\n",
       "  <thead>\n",
       "    <tr style=\"text-align: right;\">\n",
       "      <th></th>\n",
       "      <th>CURRENCY</th>\n",
       "      <th>AMOUNT</th>\n",
       "      <th>STATE</th>\n",
       "      <th>CREATED_DATE</th>\n",
       "      <th>MERCHANT_CATEGORY</th>\n",
       "      <th>MERCHANT_COUNTRY</th>\n",
       "      <th>ENTRY_METHOD</th>\n",
       "      <th>USER_ID</th>\n",
       "      <th>TYPE</th>\n",
       "      <th>SOURCE</th>\n",
       "      <th>ID</th>\n",
       "    </tr>\n",
       "  </thead>\n",
       "  <tbody>\n",
       "    <tr>\n",
       "      <td>0</td>\n",
       "      <td>GBP</td>\n",
       "      <td>3738</td>\n",
       "      <td>COMPLETED</td>\n",
       "      <td>2015-10-11 09:05:43.016</td>\n",
       "      <td>bar</td>\n",
       "      <td>AUS</td>\n",
       "      <td>misc</td>\n",
       "      <td>7285c1ec-31d0-4022-b311-0ad9227ef7f4</td>\n",
       "      <td>CARD_PAYMENT</td>\n",
       "      <td>GAIA</td>\n",
       "      <td>5a9ee109-e9b3-4598-8dd7-587591e6a470</td>\n",
       "    </tr>\n",
       "    <tr>\n",
       "      <td>1</td>\n",
       "      <td>GBP</td>\n",
       "      <td>588</td>\n",
       "      <td>COMPLETED</td>\n",
       "      <td>2015-10-11 20:08:39.150</td>\n",
       "      <td>NaN</td>\n",
       "      <td>CA</td>\n",
       "      <td>misc</td>\n",
       "      <td>20100a1d-12bc-41ed-a5e1-bc46216e9696</td>\n",
       "      <td>CARD_PAYMENT</td>\n",
       "      <td>GAIA</td>\n",
       "      <td>28d68bf4-460b-4c8e-9b95-bcda9ab596b5</td>\n",
       "    </tr>\n",
       "    <tr>\n",
       "      <td>2</td>\n",
       "      <td>GBP</td>\n",
       "      <td>1264</td>\n",
       "      <td>COMPLETED</td>\n",
       "      <td>2015-10-11 11:37:40.908</td>\n",
       "      <td>NaN</td>\n",
       "      <td>UKR</td>\n",
       "      <td>misc</td>\n",
       "      <td>0fe472c9-cf3e-4e43-90f3-a0cfb6a4f1f0</td>\n",
       "      <td>CARD_PAYMENT</td>\n",
       "      <td>GAIA</td>\n",
       "      <td>1f1e8817-d40b-4c09-b718-cfc4a6f211df</td>\n",
       "    </tr>\n",
       "  </tbody>\n",
       "</table>\n",
       "</div>"
      ],
      "text/plain": [
       "  CURRENCY  AMOUNT      STATE            CREATED_DATE MERCHANT_CATEGORY  \\\n",
       "0      GBP    3738  COMPLETED 2015-10-11 09:05:43.016               bar   \n",
       "1      GBP     588  COMPLETED 2015-10-11 20:08:39.150               NaN   \n",
       "2      GBP    1264  COMPLETED 2015-10-11 11:37:40.908               NaN   \n",
       "\n",
       "  MERCHANT_COUNTRY ENTRY_METHOD                               USER_ID  \\\n",
       "0              AUS         misc  7285c1ec-31d0-4022-b311-0ad9227ef7f4   \n",
       "1               CA         misc  20100a1d-12bc-41ed-a5e1-bc46216e9696   \n",
       "2              UKR         misc  0fe472c9-cf3e-4e43-90f3-a0cfb6a4f1f0   \n",
       "\n",
       "           TYPE SOURCE                                    ID  \n",
       "0  CARD_PAYMENT   GAIA  5a9ee109-e9b3-4598-8dd7-587591e6a470  \n",
       "1  CARD_PAYMENT   GAIA  28d68bf4-460b-4c8e-9b95-bcda9ab596b5  \n",
       "2  CARD_PAYMENT   GAIA  1f1e8817-d40b-4c09-b718-cfc4a6f211df  "
      ]
     },
     "execution_count": 2,
     "metadata": {},
     "output_type": "execute_result"
    }
   ],
   "source": [
    "tran = pd.read_csv('transactions.csv',parse_dates=['CREATED_DATE']).drop('Unnamed: 0', axis=1)\n",
    "tran.head(3)"
   ]
  },
  {
   "cell_type": "markdown",
   "metadata": {},
   "source": [
    "### Data Cleaning"
   ]
  },
  {
   "cell_type": "code",
   "execution_count": 3,
   "metadata": {},
   "outputs": [
    {
     "data": {
      "text/html": [
       "<div>\n",
       "<style scoped>\n",
       "    .dataframe tbody tr th:only-of-type {\n",
       "        vertical-align: middle;\n",
       "    }\n",
       "\n",
       "    .dataframe tbody tr th {\n",
       "        vertical-align: top;\n",
       "    }\n",
       "\n",
       "    .dataframe thead th {\n",
       "        text-align: right;\n",
       "    }\n",
       "</style>\n",
       "<table border=\"1\" class=\"dataframe\">\n",
       "  <thead>\n",
       "    <tr style=\"text-align: right;\">\n",
       "      <th></th>\n",
       "      <th>CURRENCY</th>\n",
       "      <th>AMOUNT</th>\n",
       "      <th>STATE</th>\n",
       "      <th>CREATED_DATE</th>\n",
       "      <th>MERCHANT_CATEGORY</th>\n",
       "      <th>MERCHANT_COUNTRY</th>\n",
       "      <th>ENTRY_METHOD</th>\n",
       "      <th>TYPE</th>\n",
       "      <th>SOURCE</th>\n",
       "    </tr>\n",
       "  </thead>\n",
       "  <tbody>\n",
       "    <tr>\n",
       "      <td>0</td>\n",
       "      <td>GBP</td>\n",
       "      <td>3738</td>\n",
       "      <td>COMPLETED</td>\n",
       "      <td>2015-10-11 09:05:43.016</td>\n",
       "      <td>bar</td>\n",
       "      <td>AUS</td>\n",
       "      <td>misc</td>\n",
       "      <td>CARD_PAYMENT</td>\n",
       "      <td>GAIA</td>\n",
       "    </tr>\n",
       "    <tr>\n",
       "      <td>1</td>\n",
       "      <td>GBP</td>\n",
       "      <td>588</td>\n",
       "      <td>COMPLETED</td>\n",
       "      <td>2015-10-11 20:08:39.150</td>\n",
       "      <td>NaN</td>\n",
       "      <td>CA</td>\n",
       "      <td>misc</td>\n",
       "      <td>CARD_PAYMENT</td>\n",
       "      <td>GAIA</td>\n",
       "    </tr>\n",
       "    <tr>\n",
       "      <td>2</td>\n",
       "      <td>GBP</td>\n",
       "      <td>1264</td>\n",
       "      <td>COMPLETED</td>\n",
       "      <td>2015-10-11 11:37:40.908</td>\n",
       "      <td>NaN</td>\n",
       "      <td>UKR</td>\n",
       "      <td>misc</td>\n",
       "      <td>CARD_PAYMENT</td>\n",
       "      <td>GAIA</td>\n",
       "    </tr>\n",
       "  </tbody>\n",
       "</table>\n",
       "</div>"
      ],
      "text/plain": [
       "  CURRENCY  AMOUNT      STATE            CREATED_DATE MERCHANT_CATEGORY  \\\n",
       "0      GBP    3738  COMPLETED 2015-10-11 09:05:43.016               bar   \n",
       "1      GBP     588  COMPLETED 2015-10-11 20:08:39.150               NaN   \n",
       "2      GBP    1264  COMPLETED 2015-10-11 11:37:40.908               NaN   \n",
       "\n",
       "  MERCHANT_COUNTRY ENTRY_METHOD          TYPE SOURCE  \n",
       "0              AUS         misc  CARD_PAYMENT   GAIA  \n",
       "1               CA         misc  CARD_PAYMENT   GAIA  \n",
       "2              UKR         misc  CARD_PAYMENT   GAIA  "
      ]
     },
     "execution_count": 3,
     "metadata": {},
     "output_type": "execute_result"
    }
   ],
   "source": [
    "# We don't need USER_ID and transaction ID for the model. So we will remove them from the tran dataframe\n",
    "users = tran['USER_ID']\n",
    "tran = tran[['CURRENCY', 'AMOUNT', 'STATE', 'CREATED_DATE','MERCHANT_CATEGORY',\n",
    "       'MERCHANT_COUNTRY', 'ENTRY_METHOD', 'TYPE', 'SOURCE'\n",
    "       ]]\n",
    "tran.head(3)"
   ]
  },
  {
   "cell_type": "code",
   "execution_count": 4,
   "metadata": {},
   "outputs": [
    {
     "name": "stdout",
     "output_type": "stream",
     "text": [
      "<class 'pandas.core.frame.DataFrame'>\n",
      "RangeIndex: 688651 entries, 0 to 688650\n",
      "Data columns (total 9 columns):\n",
      "CURRENCY             688651 non-null object\n",
      "AMOUNT               688651 non-null int64\n",
      "STATE                688651 non-null object\n",
      "CREATED_DATE         688651 non-null datetime64[ns]\n",
      "MERCHANT_CATEGORY    223065 non-null object\n",
      "MERCHANT_COUNTRY     483073 non-null object\n",
      "ENTRY_METHOD         688651 non-null object\n",
      "TYPE                 688651 non-null object\n",
      "SOURCE               688651 non-null object\n",
      "dtypes: datetime64[ns](1), int64(1), object(7)\n",
      "memory usage: 47.3+ MB\n"
     ]
    }
   ],
   "source": [
    "# Identifying columns with null values\n",
    "tran.info()"
   ]
  },
  {
   "cell_type": "code",
   "execution_count": 5,
   "metadata": {},
   "outputs": [],
   "source": [
    "#Filling null values in 'MERCHANT_CATEGORY' column with value 'unknown'\n",
    "tran['MERCHANT_CATEGORY'].fillna('Unknown', inplace=True)\n",
    "\n",
    "#Filling the null values in 'MERCHANT_COUNTRY' as 'unknown'\n",
    "tran['MERCHANT_COUNTRY'] = tran['MERCHANT_COUNTRY'].str.slice(-3)\n",
    "tran['MERCHANT_COUNTRY'].fillna('Unknown',inplace=True)"
   ]
  },
  {
   "cell_type": "code",
   "execution_count": 6,
   "metadata": {},
   "outputs": [],
   "source": [
    "# Converting the 'CREATED_DATE' to unix timestamp\n",
    "tran['CREATED_DATE'] = tran['CREATED_DATE'].apply(lambda x: int(datetime.datetime.timestamp(x)))"
   ]
  },
  {
   "cell_type": "markdown",
   "metadata": {},
   "source": [
    "### Feature Scaling"
   ]
  },
  {
   "cell_type": "code",
   "execution_count": 7,
   "metadata": {},
   "outputs": [],
   "source": [
    "# Creating dummy variables for categorical data\n",
    "X = tran\n",
    "X = pd.get_dummies(X,drop_first=True)\n",
    "num_columns = len(X.columns)"
   ]
  },
  {
   "cell_type": "code",
   "execution_count": 8,
   "metadata": {},
   "outputs": [],
   "source": [
    "# Minmax scaling to convert all the values to between 0 & 1 \n",
    "sc = MinMaxScaler()\n",
    "X = sc.fit_transform(X)"
   ]
  },
  {
   "cell_type": "markdown",
   "metadata": {},
   "source": [
    "### Building the model"
   ]
  },
  {
   "cell_type": "code",
   "execution_count": 9,
   "metadata": {},
   "outputs": [],
   "source": [
    "#Building a 2-D matrix of 20x20 \n",
    "som = MiniSom(20,20,num_columns)\n",
    "\n",
    "#Assigning random initial weights\n",
    "som.random_weights_init(X)\n",
    "\n",
    "#Training the model with 500 iterations\n",
    "som.train_random(X,500)"
   ]
  },
  {
   "cell_type": "markdown",
   "metadata": {},
   "source": [
    "### Analysing the results"
   ]
  },
  {
   "cell_type": "code",
   "execution_count": 10,
   "metadata": {},
   "outputs": [
    {
     "data": {
      "image/png": "[encoded data removed]",
      "text/plain": [
       "<Figure size 1008x864 with 2 Axes>"
      ]
     },
     "metadata": {
      "needs_background": "light"
     },
     "output_type": "display_data"
    }
   ],
   "source": [
    "#Returning the matrix of mean inter-neuron euclidean distances of winning nodes\n",
    "plt.figure(figsize=(14,12))\n",
    "sns.heatmap(som.distance_map().T)\n",
    "plt.title('Inter-Neuron Euclidean Distances')\n",
    "plt.show()"
   ]
  },
  {
   "cell_type": "markdown",
   "metadata": {},
   "source": [
    "#### Let's find out the transactions with larger than 0.8 euclidean distance."
   ]
  },
  {
   "cell_type": "code",
   "execution_count": 11,
   "metadata": {
    "scrolled": true
   },
   "outputs": [
    {
     "name": "stderr",
     "output_type": "stream",
     "text": [
      "100% |########################################################################|\n"
     ]
    }
   ],
   "source": [
    "#Getting the winner node for each of the transaction and putting it in the list w\n",
    "pbar = ProgressBar()\n",
    "w=[]\n",
    "for x in pbar(X):\n",
    "    w.append(som.winner(x))"
   ]
  },
  {
   "cell_type": "code",
   "execution_count": 21,
   "metadata": {},
   "outputs": [],
   "source": [
    "# Assigning the Euclidean distance of each transaction to the index number of that transaction\n",
    "dist_map = som.distance_map()\n",
    "cust = {}\n",
    "for i in range(len(w)):\n",
    "    cust[i] = dist_map[w[i]]\n",
    "    \n",
    "# Converting the cust dictionary to dataframe and joining it to users dataframe\n",
    "cust = pd.DataFrame.from_dict(cust, orient='index', columns = ['Distance'])\n",
    "users = users.to_frame().join(cust)"
   ]
  },
  {
   "cell_type": "markdown",
   "metadata": {},
   "source": [
    "### Probable Fraudsters"
   ]
  },
  {
   "cell_type": "markdown",
   "metadata": {},
   "source": [
    "Transactions with higher euclidean distances are suspicious. So we will find out the list of those customers and supply the list to the relevant department for further analysis."
   ]
  },
  {
   "cell_type": "code",
   "execution_count": 22,
   "metadata": {},
   "outputs": [],
   "source": [
    "probable_fraud_customers = users.drop_duplicates('USER_ID',\n",
    "                                                 keep='last')[users.drop_duplicates('USER_ID',\n",
    "                                                                                    keep='last')['Distance'] > 0.8]"
   ]
  },
  {
   "cell_type": "code",
   "execution_count": 23,
   "metadata": {},
   "outputs": [
    {
     "data": {
      "text/html": [
       "<div>\n",
       "<style scoped>\n",
       "    .dataframe tbody tr th:only-of-type {\n",
       "        vertical-align: middle;\n",
       "    }\n",
       "\n",
       "    .dataframe tbody tr th {\n",
       "        vertical-align: top;\n",
       "    }\n",
       "\n",
       "    .dataframe thead th {\n",
       "        text-align: right;\n",
       "    }\n",
       "</style>\n",
       "<table border=\"1\" class=\"dataframe\">\n",
       "  <thead>\n",
       "    <tr style=\"text-align: right;\">\n",
       "      <th></th>\n",
       "      <th>USER_ID</th>\n",
       "      <th>Distance</th>\n",
       "    </tr>\n",
       "  </thead>\n",
       "  <tbody>\n",
       "    <tr>\n",
       "      <td>2763</td>\n",
       "      <td>41e2ecd4-4d43-49c5-bdc7-b9124ef27187</td>\n",
       "      <td>0.873674</td>\n",
       "    </tr>\n",
       "    <tr>\n",
       "      <td>3311</td>\n",
       "      <td>62edb2a5-8b28-466a-9a9a-b3e314f2f771</td>\n",
       "      <td>0.882330</td>\n",
       "    </tr>\n",
       "    <tr>\n",
       "      <td>3830</td>\n",
       "      <td>d20a6e48-eba2-4419-98e1-6b20cb7333c7</td>\n",
       "      <td>0.836215</td>\n",
       "    </tr>\n",
       "    <tr>\n",
       "      <td>3977</td>\n",
       "      <td>fbe6dfd9-96de-4fde-af16-32e8a0bb7a25</td>\n",
       "      <td>0.882330</td>\n",
       "    </tr>\n",
       "    <tr>\n",
       "      <td>4630</td>\n",
       "      <td>10a3ed6c-b711-409d-bb7d-4a0cba9a2ad8</td>\n",
       "      <td>0.873674</td>\n",
       "    </tr>\n",
       "    <tr>\n",
       "      <td>...</td>\n",
       "      <td>...</td>\n",
       "      <td>...</td>\n",
       "    </tr>\n",
       "    <tr>\n",
       "      <td>688556</td>\n",
       "      <td>846c837d-6c52-48a3-b035-86cf236bec74</td>\n",
       "      <td>0.882330</td>\n",
       "    </tr>\n",
       "    <tr>\n",
       "      <td>688579</td>\n",
       "      <td>5fd70cca-1685-40ad-a312-7d387f6911a9</td>\n",
       "      <td>0.873674</td>\n",
       "    </tr>\n",
       "    <tr>\n",
       "      <td>688588</td>\n",
       "      <td>d2d6f48a-c3bc-4d98-be4a-e822fcf5fd2d</td>\n",
       "      <td>0.873674</td>\n",
       "    </tr>\n",
       "    <tr>\n",
       "      <td>688603</td>\n",
       "      <td>06bb2d68-bf61-4030-8447-9de64d3ce490</td>\n",
       "      <td>0.882330</td>\n",
       "    </tr>\n",
       "    <tr>\n",
       "      <td>688644</td>\n",
       "      <td>e51b9b9f-ce17-4e1d-a062-95bea5f02062</td>\n",
       "      <td>0.873674</td>\n",
       "    </tr>\n",
       "  </tbody>\n",
       "</table>\n",
       "<p>104 rows × 2 columns</p>\n",
       "</div>"
      ],
      "text/plain": [
       "                                     USER_ID  Distance\n",
       "2763    41e2ecd4-4d43-49c5-bdc7-b9124ef27187  0.873674\n",
       "3311    62edb2a5-8b28-466a-9a9a-b3e314f2f771  0.882330\n",
       "3830    d20a6e48-eba2-4419-98e1-6b20cb7333c7  0.836215\n",
       "3977    fbe6dfd9-96de-4fde-af16-32e8a0bb7a25  0.882330\n",
       "4630    10a3ed6c-b711-409d-bb7d-4a0cba9a2ad8  0.873674\n",
       "...                                      ...       ...\n",
       "688556  846c837d-6c52-48a3-b035-86cf236bec74  0.882330\n",
       "688579  5fd70cca-1685-40ad-a312-7d387f6911a9  0.873674\n",
       "688588  d2d6f48a-c3bc-4d98-be4a-e822fcf5fd2d  0.873674\n",
       "688603  06bb2d68-bf61-4030-8447-9de64d3ce490  0.882330\n",
       "688644  e51b9b9f-ce17-4e1d-a062-95bea5f02062  0.873674\n",
       "\n",
       "[104 rows x 2 columns]"
      ]
     },
     "execution_count": 23,
     "metadata": {},
     "output_type": "execute_result"
    }
   ],
   "source": [
    "probable_fraud_customers"
   ]
  },
  {
   "cell_type": "markdown",
   "metadata": {},
   "source": [
    "##### We can investigate these customers to find out whether they are associated with fraudulant transactions or not "
   ]
  }
 ],
 "metadata": {
  "kernelspec": {
   "display_name": "Python 3",
   "language": "python",
   "name": "python3"
  },
  "language_info": {
   "codemirror_mode": {
    "name": "ipython",
    "version": 3
   },
   "file_extension": ".py",
   "mimetype": "text/x-python",
   "name": "python",
   "nbconvert_exporter": "python",
   "pygments_lexer": "ipython3",
   "version": "3.7.4"
  }
 },
 "nbformat": 4,
 "nbformat_minor": 2
}
